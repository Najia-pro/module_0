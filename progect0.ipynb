{
 "cells": [
  {
   "cell_type": "markdown",
   "metadata": {},
   "source": [
    "## Проект 0. Самый быстрый гид\n",
    "\n",
    "Задача: написать код, который отгадывает загаданное число от 1 до 100 за минимальное число шагов.\n",
    "\n",
    "Алгоритм, заложенный в решении. Задаем предполагаемое число для угадывания - это половина от самого большого и самого маленького числа искомого диапазона. Первая попытка это 50. Если число больше, то искомый диапазон - от 51 до 100. Если меньше, то искомый диапазон от 1 до 49. И т.д. последовательным приближением, отбрасыванием половины диапазона, ищется искомое число. Этот алгоритм задан функцией game_core_my.\n",
    "\n",
    "Функция score_game - это счетчик среднего числа попыток за 1000 вариантов. \n",
    "\n",
    "\n",
    "## Данное решение позволяет угадывать число в среднем за 6 попыток"
   ]
  },
  {
   "cell_type": "code",
   "execution_count": 1,
   "metadata": {},
   "outputs": [
    {
     "name": "stdout",
     "output_type": "stream",
     "text": [
      "Ваш алгоритм угадывает число в среднем за 6 попыток\n"
     ]
    }
   ],
   "source": [
    "import numpy as np\n",
    "def game_core_my(number):\n",
    "    \"\"\"функция угадывания загаданного числа\"\"\"\n",
    "    lower=1 # нижняя граница начального диапазона\n",
    "    upper=100 # верхняя граница начального диапазона\n",
    "    count=1 # счетчик попыток\n",
    "    predict=50 # задаваемое число в попытке отгадать загаданное число\n",
    "    while number != predict:\n",
    "        count += 1\n",
    "        predict = (upper-lower)//2+lower # переназначение числа для следующей попытки\n",
    "        if number > predict: \n",
    "            lower= predict+1 # переназначение нижней границы диапазона\n",
    "        elif number < predict: \n",
    "            upper = predict-1 # переназначение верхней границы диапазона\n",
    "        else:\n",
    "            break\n",
    "    return(count)\n",
    "\n",
    "\n",
    "def score_game(game_core):\n",
    "    \"\"\"функция запуска 1000 экспериментов с вычислением среднего результата\"\"\"\n",
    "    count_ls = []\n",
    "    np.random.seed(1)  \n",
    "    random_array = np.random.randint(1,101, size=(1000)) # формируем список из 1000 случайных чисел\n",
    "    for number in random_array:    \n",
    "        counter = game_core(number)\n",
    "        count_ls.append(counter) # формируем список из числа попыток в каждой итерации\n",
    "    score = int(np.mean(count_ls)) # определяем итоговое среднее число попыток за 1000 экспериментов\n",
    "    return(score)\n",
    "\n",
    "\n",
    "avg_count = score_game(game_core_my) \n",
    "print(f\"Ваш алгоритм угадывает число в среднем за {avg_count} попыток\")\n"
   ]
  },
  {
   "cell_type": "code",
   "execution_count": null,
   "metadata": {},
   "outputs": [],
   "source": []
  }
 ],
 "metadata": {
  "kernelspec": {
   "display_name": "Python 3",
   "language": "python",
   "name": "python3"
  },
  "language_info": {
   "codemirror_mode": {
    "name": "ipython",
    "version": 3
   },
   "file_extension": ".py",
   "mimetype": "text/x-python",
   "name": "python",
   "nbconvert_exporter": "python",
   "pygments_lexer": "ipython3",
   "version": "3.7.6"
  }
 },
 "nbformat": 4,
 "nbformat_minor": 4
}
