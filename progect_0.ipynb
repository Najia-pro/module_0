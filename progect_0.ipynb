{
 "cells": [
  {
   "cell_type": "markdown",
   "metadata": {},
   "source": [
    "## Проект 0. Самый быстрый гид\n",
    "\n",
    "Задача: написать код, который отгадывает загаданное число от 1 до 100 за минимальное число шагов\n",
    "\n",
    "Алгоритм, заложенный в решении. Задаем предполагаемое число для угадывания - это половина от самого большого и самого маленького числа искомого диапазона. Первая попытка это 50. Если число больше, то искомый диапазон - от 51 до 100. Если меньше, то искомый диапазон от 1 до 49. И т.д. последовательным приближением, отбрасыванием половины диапазона, ищется искомое число. Этот алгоритм задан функцией game_core_my.\n",
    "\n",
    "Функция score_game - это счетчик среднего числа попыток за 1000 вариантов. \n",
    "\n",
    "\n",
    "## Данное решение угадывает число в среднем за 6 попыток"
   ]
  },
  {
   "cell_type": "code",
   "execution_count": 1,
   "metadata": {},
   "outputs": [
    {
     "name": "stdout",
     "output_type": "stream",
     "text": [
      "Ваш алгоритм угадывает число в среднем за 6 попыток\n"
     ]
    }
   ],
   "source": [
    "import numpy as np\n",
    "def game_core_my(number):\n",
    "    lower=1 # нижняя граница начального диапазона\n",
    "    upper=100 # верхняя граница начального диапазона\n",
    "    count=1 # счетчик попыток\n",
    "    predict=50 # задаваемое число, в попытке отгадать загаданное число\n",
    "    while number != predict:\n",
    "        count += 1\n",
    "        predict = (upper-lower)//2+lower # переназначение числа для следующей попытки\n",
    "        if number > predict: \n",
    "            lower= predict+1\n",
    "        elif number < predict: \n",
    "            upper = predict-1\n",
    "        else:\n",
    "            break\n",
    "    return(count)\n",
    "\n",
    "\n",
    "def score_game(game_core):\n",
    "    count_ls = []\n",
    "    np.random.seed(1)  # фиксируем RANDOM SEED, чтобы ваш эксперимент был воспроизводим!\n",
    "    random_array = np.random.randint(1,101, size=(1000)) # формируем случайным образом список из 100 чисел     for number in random_array:\n",
    "    for number in random_array:    \n",
    "        counter = game_core(number)\n",
    "        count_ls.append(counter) # формируем список числа попыток\n",
    "    score = int(np.mean(count_ls)) # определяем итоговое среднее число попыток\n",
    "    return(score)\n",
    "\n",
    "\n",
    "avg_count = score_game(game_core_my)\n",
    "print(f\"Ваш алгоритм угадывает число в среднем за {avg_count} попыток\")"
   ]
  },
  {
   "cell_type": "code",
   "execution_count": null,
   "metadata": {},
   "outputs": [],
   "source": []
  }
 ],
 "metadata": {
  "kernelspec": {
   "display_name": "Python 3",
   "language": "python",
   "name": "python3"
  },
  "language_info": {
   "codemirror_mode": {
    "name": "ipython",
    "version": 3
   },
   "file_extension": ".py",
   "mimetype": "text/x-python",
   "name": "python",
   "nbconvert_exporter": "python",
   "pygments_lexer": "ipython3",
   "version": "3.7.6"
  }
 },
 "nbformat": 4,
 "nbformat_minor": 4
}
